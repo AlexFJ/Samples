{
 "cells": [
  {
   "cell_type": "markdown",
   "metadata": {
    "deletable": true,
    "editable": true
   },
   "source": [
    "##  Numpy"
   ]
  },
  {
   "cell_type": "code",
   "execution_count": 12,
   "metadata": {
    "collapsed": true,
    "deletable": true,
    "editable": true
   },
   "outputs": [],
   "source": [
    "import numpy as np"
   ]
  },
  {
   "cell_type": "markdown",
   "metadata": {
    "deletable": true,
    "editable": true
   },
   "source": [
    "**(1)** Реализуйте функцию, принимающую на вход матрицу X и два массива i и j одинаковой длины и возвращающую вектор np.array, состоящий из последовательности элементов [X[i[0], j[0]], X[i[1], j[1]], ..., X[i[N-1], j[N-1]]].\n"
   ]
  },
  {
   "cell_type": "markdown",
   "metadata": {
    "deletable": true,
    "editable": true
   },
   "source": [
    "Кажется numpy может это сделать просто через индексацию матрицы:"
   ]
  },
  {
   "cell_type": "code",
   "execution_count": 4,
   "metadata": {
    "collapsed": true,
    "deletable": true,
    "editable": true
   },
   "outputs": [],
   "source": [
    "def construct_array(X, i, j):\n",
    "    return X[i, j]"
   ]
  },
  {
   "cell_type": "markdown",
   "metadata": {
    "deletable": true,
    "editable": true
   },
   "source": [
    "Проверим это на каком-нибудь примере:"
   ]
  },
  {
   "cell_type": "code",
   "execution_count": 27,
   "metadata": {
    "collapsed": false,
    "deletable": true,
    "editable": true
   },
   "outputs": [
    {
     "data": {
      "text/plain": [
       "array([1, 2, 5])"
      ]
     },
     "execution_count": 27,
     "metadata": {},
     "output_type": "execute_result"
    }
   ],
   "source": [
    "X = np.array([[1, 2, 3],\n",
    "              [4, 5, 6]])\n",
    "i = np.array([0, 0, 1])\n",
    "j = np.array([0, 1, 1])\n",
    "\n",
    "construct_array(X, i , j)"
   ]
  },
  {
   "cell_type": "markdown",
   "metadata": {
    "deletable": true,
    "editable": true
   },
   "source": [
    "И мы действительно получили нужную выборку чисел матрицы."
   ]
  },
  {
   "cell_type": "markdown",
   "metadata": {
    "deletable": true,
    "editable": true
   },
   "source": [
    "**(2)** Реализуйте функцию для подсчёта произведения ненулевых элементов на диагонали прямоугольной матрицы. Например, для X = np.array([[1, 0, 1], [2, 0, 2], [3, 0, 3], [4, 4, 4]]) ответом является 3. Если ненулевых элементов нет, функция должна возвращать None.\n"
   ]
  },
  {
   "cell_type": "markdown",
   "metadata": {
    "deletable": true,
    "editable": true
   },
   "source": [
    "Теперь придётся найти пару методов, которые помогут нам посчитать произведение. Я воспользовался *take, nonzero, diag, count_nonzero* и *prod*, правда думаю, можно было обойтись и меньшим количеством дейтсвий :)"
   ]
  },
  {
   "cell_type": "code",
   "execution_count": 23,
   "metadata": {
    "collapsed": true,
    "deletable": true,
    "editable": true
   },
   "outputs": [],
   "source": [
    "def nonzero_product(X):\n",
    "    diag = X.diagonal()\n",
    "    if np.count_nonzero(diag) == 0:\n",
    "        return None\n",
    "    return diag.take(diag.nonzero()).prod()"
   ]
  },
  {
   "cell_type": "markdown",
   "metadata": {
    "deletable": true,
    "editable": true
   },
   "source": [
    "Проверим на примере из задания и на случае с нулевой диагональю:"
   ]
  },
  {
   "cell_type": "code",
   "execution_count": 28,
   "metadata": {
    "collapsed": false,
    "deletable": true,
    "editable": true
   },
   "outputs": [
    {
     "data": {
      "text/plain": [
       "3"
      ]
     },
     "execution_count": 28,
     "metadata": {},
     "output_type": "execute_result"
    }
   ],
   "source": [
    "X = np.array([[1, 0, 1], \n",
    "               [2, 0, 2], \n",
    "               [3, 0, 3], \n",
    "               [4, 4, 4]])\n",
    "\n",
    "nonzero_product(X)"
   ]
  },
  {
   "cell_type": "code",
   "execution_count": 32,
   "metadata": {
    "collapsed": false,
    "deletable": true,
    "editable": true
   },
   "outputs": [],
   "source": [
    "Y = np.array([[0, 1],\n",
    "              [1, 0]])\n",
    "\n",
    "nonzero_product(Y)"
   ]
  },
  {
   "cell_type": "markdown",
   "metadata": {
    "deletable": true,
    "editable": true
   },
   "source": [
    "Видно, что на обоих тестах функция дала нужный ответ."
   ]
  },
  {
   "cell_type": "markdown",
   "metadata": {
    "deletable": true,
    "editable": true
   },
   "source": [
    "**(3)** Написать функцию, возвращающую максимальный элемент в массиве *x* среди элементов, перед которыми стоит нулевой. Для x = np.array([6, 2, 0, 3, 0, 0, 5, 7, 0]) ответом является 5. Если подходящих элементов нет, функция должна возвращать *None*."
   ]
  },
  {
   "cell_type": "markdown",
   "metadata": {
    "deletable": true,
    "editable": true
   },
   "source": [
    "Для этого можно сначала найти те элементы, перед которыми стоит 0, поместить их в отдельный массив и найти максимум в нём. Проделаем это, не забывая, что таких элементов могло и не быть:"
   ]
  },
  {
   "cell_type": "code",
   "execution_count": 5,
   "metadata": {
    "collapsed": true,
    "deletable": true,
    "editable": true
   },
   "outputs": [],
   "source": [
    "def max_element(arr):\n",
    "    cond = arr[:-1] == 0\n",
    "    arr = arr[1:]\n",
    "    if cond.any() == False:\n",
    "        return None\n",
    "    return np.amax(arr[cond])"
   ]
  },
  {
   "cell_type": "markdown",
   "metadata": {
    "deletable": true,
    "editable": true
   },
   "source": [
    "Проверим на тесте из условия:"
   ]
  },
  {
   "cell_type": "code",
   "execution_count": 33,
   "metadata": {
    "collapsed": false,
    "deletable": true,
    "editable": true
   },
   "outputs": [
    {
     "data": {
      "text/plain": [
       "5"
      ]
     },
     "execution_count": 33,
     "metadata": {},
     "output_type": "execute_result"
    }
   ],
   "source": [
    "x = np.array([6, 2, 0, 3, 0, 0, 5, 7, 0])\n",
    "\n",
    "max_element(x)"
   ]
  },
  {
   "cell_type": "markdown",
   "metadata": {
    "deletable": true,
    "editable": true
   },
   "source": [
    "А теперь на случае, где нет подходящих элементов вовсе:"
   ]
  },
  {
   "cell_type": "code",
   "execution_count": 36,
   "metadata": {
    "collapsed": false,
    "deletable": true,
    "editable": true
   },
   "outputs": [],
   "source": [
    "x = np.array([1, 2, 3])\n",
    "\n",
    "max_element(x)"
   ]
  },
  {
   "cell_type": "markdown",
   "metadata": {
    "deletable": true,
    "editable": true
   },
   "source": [
    "Легко заметить, что мы получили нужный результат."
   ]
  },
  {
   "cell_type": "markdown",
   "metadata": {
    "deletable": true,
    "editable": true
   },
   "source": [
    "**(4)** Реализуйте функцию, принимающую на вход матрицу *X* и некоторое число *v* и возвращающую ближайший к заданному числу элемент матрицы. Например, для X = np.arange(0,10).reshape((2, 5)) и v = 3.6 ответом будет 4."
   ]
  },
  {
   "cell_type": "markdown",
   "metadata": {
    "deletable": true,
    "editable": true
   },
   "source": [
    "Здесь достаточно просто найти матрицу расстояний до нашего числа, а затем найти индекс минимального элемента в ней."
   ]
  },
  {
   "cell_type": "code",
   "execution_count": 55,
   "metadata": {
    "collapsed": true,
    "deletable": true,
    "editable": true
   },
   "outputs": [],
   "source": [
    "def nearest_value(X, v):\n",
    "    D = np.fabs(X - v)\n",
    "    ind_min = np.unravel_index(np.argmin(D), D.shape)\n",
    "    return X[ind_min]"
   ]
  },
  {
   "cell_type": "markdown",
   "metadata": {
    "deletable": true,
    "editable": true
   },
   "source": [
    "Посмотрим на тест из условия:"
   ]
  },
  {
   "cell_type": "code",
   "execution_count": 56,
   "metadata": {
    "collapsed": false,
    "deletable": true,
    "editable": true
   },
   "outputs": [
    {
     "data": {
      "text/plain": [
       "4"
      ]
     },
     "execution_count": 56,
     "metadata": {},
     "output_type": "execute_result"
    }
   ],
   "source": [
    "X = np.arange(0,10).reshape((2, 5))\n",
    "v = 3.6\n",
    "nearest_value(X, v)"
   ]
  },
  {
   "cell_type": "markdown",
   "metadata": {
    "deletable": true,
    "editable": true
   },
   "source": [
    "И сгенерируем случайный тест:"
   ]
  },
  {
   "cell_type": "code",
   "execution_count": 100,
   "metadata": {
    "collapsed": false,
    "deletable": true,
    "editable": true
   },
   "outputs": [
    {
     "name": "stdout",
     "output_type": "stream",
     "text": [
      "Marix:\n",
      " [[ 0.16079696  0.5748164   0.78462984]\n",
      " [ 0.01314817  0.81241658  0.43125893]\n",
      " [ 0.14503629  0.02312414  0.707027  ]]\n",
      "Number: 0.03220830839043376\n"
     ]
    },
    {
     "data": {
      "text/plain": [
       "0.023124142936749248"
      ]
     },
     "execution_count": 100,
     "metadata": {},
     "output_type": "execute_result"
    }
   ],
   "source": [
    "X = np.random.rand(3, 3)\n",
    "v = np.random.rand()\n",
    "print(\"Marix:\\n {0}\".format(X))\n",
    "print(\"Number: {0}\".format(v))\n",
    "\n",
    "nearest_value(X, v)"
   ]
  },
  {
   "cell_type": "markdown",
   "metadata": {
    "deletable": true,
    "editable": true
   },
   "source": [
    "В итоге, довольно наглядно видно, что мы добились желаемого."
   ]
  },
  {
   "cell_type": "markdown",
   "metadata": {
    "deletable": true,
    "editable": true
   },
   "source": [
    "**(5)** Реализуйте функцию, принимающую на вход матрицу *X* и возвращающую все её уникальные строки в виде матрицы."
   ]
  },
  {
   "cell_type": "markdown",
   "metadata": {
    "deletable": true,
    "editable": true
   },
   "source": [
    "В этом задании сразу же хочется воспользоваться *np.unique*, но он работает сразу по всем элементам матрицы. Из-за этого пришлось перевести матрицу в массив строк с помощью *ndarray.dtype.descr* и *ndarray.view*, и только затем найти среди строк уникальные, после чего собрать обратно искомую матрицу."
   ]
  },
  {
   "cell_type": "code",
   "execution_count": 2,
   "metadata": {
    "collapsed": true,
    "deletable": true,
    "editable": true
   },
   "outputs": [],
   "source": [
    "def get_unique_rows(X):\n",
    "    unique = np.unique(X.view(X.dtype.descr * X.shape[1]))\n",
    "    return unique.view(X.dtype).reshape(-1, X.shape[1])"
   ]
  },
  {
   "cell_type": "markdown",
   "metadata": {
    "deletable": true,
    "editable": true
   },
   "source": [
    "Случайные тесты здесь не столь наглядны, поэтому проверим на каком-нибудь своём:"
   ]
  },
  {
   "cell_type": "code",
   "execution_count": 58,
   "metadata": {
    "collapsed": false,
    "deletable": true,
    "editable": true
   },
   "outputs": [
    {
     "data": {
      "text/plain": [
       "array([[0, 1, 1],\n",
       "       [1, 0, 1],\n",
       "       [1, 1, 0],\n",
       "       [1, 1, 1]])"
      ]
     },
     "execution_count": 58,
     "metadata": {},
     "output_type": "execute_result"
    }
   ],
   "source": [
    "X = np.array([[1, 1, 1],\n",
    "              [1, 0, 1],\n",
    "              [1, 1, 0],\n",
    "              [0, 1, 1],\n",
    "              [1, 1, 1],\n",
    "              [1, 1, 0],\n",
    "              [1, 1, 1]])\n",
    "\n",
    "get_unique_rows(X)"
   ]
  },
  {
   "cell_type": "markdown",
   "metadata": {
    "deletable": true,
    "editable": true
   },
   "source": [
    "В итоге повторяющиеся строки действительно убрались."
   ]
  },
  {
   "cell_type": "markdown",
   "metadata": {
    "deletable": true,
    "editable": true
   },
   "source": [
    "**(6)** Реализуйте функцию, каторая во входной вещественной матрице *X* находит все значения *nan* и заменяет их на среднее арифметическое всех остальных элементов. В случае матрицы из одних *nan* произведите замену на нули."
   ]
  },
  {
   "cell_type": "markdown",
   "metadata": {
    "deletable": true,
    "editable": true
   },
   "source": [
    "Хочется верить, что это можно было бы куда приятней сделать с помощью *np.mean* и пары настроек, но я не нашел как. Поэтому с помощью *np.isnan* и *np.nonzero* найдем все *nan* (а заодно и их количество), а после чего заменим их все на посчитанное среднее (предварительно обнулив)"
   ]
  },
  {
   "cell_type": "code",
   "execution_count": 7,
   "metadata": {
    "collapsed": true,
    "deletable": true,
    "editable": true
   },
   "outputs": [],
   "source": [
    "def replace_nans(X):\n",
    "    nan_ind = np.nonzero(np.isnan(X))\n",
    "    nan_count = nan_ind[0].size\n",
    "    all_count = X.size\n",
    "    X[nan_ind] = 0\n",
    "    if all_count != nan_count:\n",
    "        X[nan_ind] = np.sum(X) / (all_count - nan_count)\n",
    "    return X"
   ]
  },
  {
   "cell_type": "markdown",
   "metadata": {
    "deletable": true,
    "editable": true
   },
   "source": [
    "Убедимся, что это сработает на каком-нибудь простом примере:"
   ]
  },
  {
   "cell_type": "code",
   "execution_count": 59,
   "metadata": {
    "collapsed": false,
    "deletable": true,
    "editable": true
   },
   "outputs": [
    {
     "data": {
      "text/plain": [
       "array([[ 0.5,  1. ],\n",
       "       [ 0. ,  0.5]])"
      ]
     },
     "execution_count": 59,
     "metadata": {},
     "output_type": "execute_result"
    }
   ],
   "source": [
    "X = np.array([[np.nan, 1],\n",
    "             [0, np.nan]])\n",
    "\n",
    "replace_nans(X)"
   ]
  },
  {
   "cell_type": "markdown",
   "metadata": {
    "deletable": true,
    "editable": true
   },
   "source": [
    "И проверим случай матрицы из *nan*:"
   ]
  },
  {
   "cell_type": "code",
   "execution_count": 60,
   "metadata": {
    "collapsed": false,
    "deletable": true,
    "editable": true
   },
   "outputs": [
    {
     "data": {
      "text/plain": [
       "array([[ 0.,  0.],\n",
       "       [ 0.,  0.]])"
      ]
     },
     "execution_count": 60,
     "metadata": {},
     "output_type": "execute_result"
    }
   ],
   "source": [
    "X = np.array([[np.nan, np.nan],\n",
    "             [np.nan, np.nan]])\n",
    "\n",
    "replace_nans(X)"
   ]
  },
  {
   "cell_type": "markdown",
   "metadata": {
    "deletable": true,
    "editable": true
   },
   "source": [
    "**(7)** Реализуйте функцию, принимающую на вход два одномерных массива *x* и *y* одинаковой длины и возвращающую матрицу, в которой первый массив соответствует первому столбцу матрицы, второй — второму."
   ]
  },
  {
   "cell_type": "markdown",
   "metadata": {
    "deletable": true,
    "editable": true
   },
   "source": [
    "В этом задании было предложено придумать несколько вариантов реализации, так что вначале опишу первый, пришедший мне в голову. Мы можем получить нашу матрицу с помощью *ndarray.resize* из заранее подготовленного вектора длины $2 \\cdot x.size$, а такой вектор довольно легко строится из наших двух с использованием *ndarray.put*."
   ]
  },
  {
   "cell_type": "code",
   "execution_count": 96,
   "metadata": {
    "collapsed": true,
    "deletable": true,
    "editable": true
   },
   "outputs": [],
   "source": [
    "def construct_matrix(x, y):\n",
    "    #print(\"1st way\")\n",
    "    X = np.array([np.nan] * 2 * x.size)\n",
    "    x_ind = np.arange(0, X.size, 2)\n",
    "    y_ind = np.arange(1, X.size, 2)\n",
    "    X.put(x_ind, x)\n",
    "    X.put(y_ind, y)\n",
    "    return X.reshape((x.size, 2))"
   ]
  },
  {
   "cell_type": "markdown",
   "metadata": {
    "deletable": true,
    "editable": true
   },
   "source": [
    "Убедимся в работе 1-го варианта:"
   ]
  },
  {
   "cell_type": "code",
   "execution_count": 97,
   "metadata": {
    "collapsed": false,
    "deletable": true,
    "editable": true
   },
   "outputs": [
    {
     "name": "stdout",
     "output_type": "stream",
     "text": [
      "First column:\n",
      " [ 0.58950064  0.73620231  0.37304987]\n",
      "Second column:\n",
      " [ 0.13180868  0.36749715  0.96631846]\n"
     ]
    },
    {
     "data": {
      "text/plain": [
       "array([[ 0.58950064,  0.13180868],\n",
       "       [ 0.73620231,  0.36749715],\n",
       "       [ 0.37304987,  0.96631846]])"
      ]
     },
     "execution_count": 97,
     "metadata": {},
     "output_type": "execute_result"
    }
   ],
   "source": [
    "i = np.random.rand(3)\n",
    "j = np.random.rand(3)\n",
    "print(\"First column:\\n {0}\".format(i))\n",
    "print(\"Second column:\\n {0}\".format(j))\n",
    "\n",
    "construct_matrix(i, j)"
   ]
  },
  {
   "cell_type": "markdown",
   "metadata": {
    "deletable": true,
    "editable": true
   },
   "source": [
    "А вот теперь можно догадаться, что эту задачу можно было выполнить просто с помощью постолбцового изменения матрицы."
   ]
  },
  {
   "cell_type": "code",
   "execution_count": 98,
   "metadata": {
    "collapsed": true,
    "deletable": true,
    "editable": true
   },
   "outputs": [],
   "source": [
    "def construct_matrix(x, y):\n",
    "    #print(\"2nd way\")\n",
    "    X = np.array([np.nan] * 2 * x.size).reshape((x.size, 2))\n",
    "    X[:,0] = x\n",
    "    X[:,1] = y\n",
    "    return X"
   ]
  },
  {
   "cell_type": "markdown",
   "metadata": {
    "deletable": true,
    "editable": true
   },
   "source": [
    "Ну и убедимся, что это тоже сработает:"
   ]
  },
  {
   "cell_type": "code",
   "execution_count": 99,
   "metadata": {
    "collapsed": false,
    "deletable": true,
    "editable": true
   },
   "outputs": [
    {
     "name": "stdout",
     "output_type": "stream",
     "text": [
      "First column:\n",
      " [ 0.38632293  0.61188797  0.64723912]\n",
      "Second column:\n",
      " [ 0.99250039  0.68043887  0.17713292]\n"
     ]
    },
    {
     "data": {
      "text/plain": [
       "array([[ 0.38632293,  0.99250039],\n",
       "       [ 0.61188797,  0.68043887],\n",
       "       [ 0.64723912,  0.17713292]])"
      ]
     },
     "execution_count": 99,
     "metadata": {},
     "output_type": "execute_result"
    }
   ],
   "source": [
    "i = np.random.rand(3)\n",
    "j = np.random.rand(3)\n",
    "print(\"First column:\\n {0}\".format(i))\n",
    "print(\"Second column:\\n {0}\".format(j))\n",
    "\n",
    "construct_matrix(i, j)"
   ]
  },
  {
   "cell_type": "markdown",
   "metadata": {
    "deletable": true,
    "editable": true
   },
   "source": [
    "**(8)** Даны две вещественные матрицы *X* и *Y* с одинаковым числом столбцов и, в общем случае, различным числом строк. Необходимо реализовать функцию, вычисляющую матрицу попарных евклидовых расстояний между всеми элементами декартового произведения строк *X* и *Y*."
   ]
  },
  {
   "cell_type": "markdown",
   "metadata": {
    "deletable": true,
    "editable": true
   },
   "source": [
    "Вероятно, стоило придерживаться совета использовать *np.dot* и *np.transpose*, но быстре мне пришёл вариант реализации без них :)"
   ]
  },
  {
   "cell_type": "markdown",
   "metadata": {
    "deletable": true,
    "editable": true
   },
   "source": [
    "Если $x, y$ - количество векторов в $X, Y$ соответственно, то откопируем матрицу $Y$ $x$ раз, а в матрице $X$ -- откопируем каждый элемент $y$ раз. Тогда поэлементная разность этих двух матриц будет представлять собой столбец всех возможных попарных разностей наших векторов, а зная эти разности, не составит труда с помощью *np.sum, np.power, np.sqrt* получить столбец всевозможных евклидовых расстояний. А после останется только превратить его в матрицу нужного размера."
   ]
  },
  {
   "cell_type": "code",
   "execution_count": 10,
   "metadata": {
    "collapsed": true,
    "deletable": true,
    "editable": true
   },
   "outputs": [],
   "source": [
    "def count_euclidean_distance(X, Y):\n",
    "    x_vec_count = X.shape[0]\n",
    "    y_vec_count = Y.shape[0]\n",
    "    vec_size = X.shape[1]\n",
    "    Y = np.tile(Y, (x_vec_count, 1))\n",
    "    tmp_X = X.view(X.dtype.descr * vec_size)\n",
    "    tmp_X = np.repeat(tmp_X, y_vec_count)\n",
    "    X = tmp_X.view(X.dtype).reshape(-1, vec_size)\n",
    "    D = np.sqrt(np.sum(np.power((X - Y), 2), axis = 1)).reshape((x_vec_count, y_vec_count))\n",
    "    return D"
   ]
  },
  {
   "cell_type": "markdown",
   "metadata": {
    "deletable": true,
    "editable": true
   },
   "source": [
    "Поскольку случайный тест будет не особо наглядным, лучше посмотрим на что-то более понятное:"
   ]
  },
  {
   "cell_type": "code",
   "execution_count": 92,
   "metadata": {
    "collapsed": false,
    "deletable": true,
    "editable": true
   },
   "outputs": [
    {
     "data": {
      "text/plain": [
       "array([[ 1.41421356,  1.41421356,  1.        ,  1.        ],\n",
       "       [ 1.        ,  1.        ,  1.41421356,  1.41421356]])"
      ]
     },
     "execution_count": 92,
     "metadata": {},
     "output_type": "execute_result"
    }
   ],
   "source": [
    "X = np.array([[0, 0, 0],\n",
    "              [1, 1, 1]])\n",
    "\n",
    "Y = np.array([[1, 1, 0],\n",
    "              [1, 0, 1],\n",
    "              [0, 1, 0],\n",
    "              [0, 0, 1]])\n",
    "\n",
    "count_euclidean_distance(X, Y)"
   ]
  },
  {
   "cell_type": "markdown",
   "metadata": {
    "deletable": true,
    "editable": true
   },
   "source": [
    "Расстояния между вершинами единичного куба нам вполне известны, и нетрудно убедиться, что мы получили именно их."
   ]
  },
  {
   "cell_type": "markdown",
   "metadata": {
    "deletable": true,
    "editable": true
   },
   "source": [
    "**(9)** Написать функцию, которая получает на вход матрицу и масштабирует каждый её столбец, а именно вычитает из столбца его среднее значение и делит столбец на стандартное отклонение."
   ]
  },
  {
   "cell_type": "markdown",
   "metadata": {
    "deletable": true,
    "editable": true
   },
   "source": [
    "Возможно здесь мог быть какой-то подвох, но, кажется, мы можем просто посчитать постолбцовое среднее и отклонение, а затем масштабировать столбцы. (правда для устранения проблемы деления на 0 пришлось заменить нулевые отклонения на 1)"
   ]
  },
  {
   "cell_type": "code",
   "execution_count": 11,
   "metadata": {
    "collapsed": true,
    "deletable": true,
    "editable": true
   },
   "outputs": [],
   "source": [
    "def scale(X):\n",
    "    mean = np.mean(X, axis = 0)\n",
    "    std = np.std(X, axis = 0)\n",
    "    std[std == 0] = 1\n",
    "    return (X - mean) / std"
   ]
  },
  {
   "cell_type": "markdown",
   "metadata": {
    "deletable": true,
    "editable": true
   },
   "source": [
    "Посмотрим на результат работы со случайной матрицей:"
   ]
  },
  {
   "cell_type": "code",
   "execution_count": 91,
   "metadata": {
    "collapsed": false,
    "deletable": true,
    "editable": true
   },
   "outputs": [
    {
     "name": "stdout",
     "output_type": "stream",
     "text": [
      "Before scale:\n",
      " [[ 0.58986476  0.42100584  0.31049639]\n",
      " [ 0.09120303  0.88258187  0.04544517]\n",
      " [ 0.49007561  0.73628895  0.46510355]]\n",
      "After scale:\n",
      " [[ 0.92594563 -1.34450282  0.21244404]\n",
      " [-1.38869875  1.05203309 -1.3170691 ]\n",
      " [ 0.46275312  0.29246973  1.10462506]]\n"
     ]
    }
   ],
   "source": [
    "X = np.random.rand(3, 3)\n",
    "\n",
    "print(\"Before scale:\\n {0}\".format(X))\n",
    "print(\"After scale:\\n {0}\".format(scale(X)))"
   ]
  },
  {
   "cell_type": "markdown",
   "metadata": {
    "deletable": true,
    "editable": true
   },
   "source": [
    "И, заодно, проверим на чём-нибудь наглядном:"
   ]
  },
  {
   "cell_type": "code",
   "execution_count": 74,
   "metadata": {
    "collapsed": false,
    "deletable": true,
    "editable": true
   },
   "outputs": [
    {
     "data": {
      "text/plain": [
       "array([[ 0.,  1.],\n",
       "       [ 0., -1.]])"
      ]
     },
     "execution_count": 74,
     "metadata": {},
     "output_type": "execute_result"
    }
   ],
   "source": [
    "X = np.array([[1, 2],\n",
    "              [1, 0]])\n",
    "scale(X)"
   ]
  },
  {
   "cell_type": "markdown",
   "metadata": {
    "deletable": true,
    "editable": true
   },
   "source": [
    "Как видно, всё работает :)"
   ]
  },
  {
   "cell_type": "markdown",
   "metadata": {
    "deletable": true,
    "editable": true
   },
   "source": [
    "**(10)** Реализуйте функцию, которая для заданной матрицы находит:\n",
    "     - определитель,\n",
    "     - след,\n",
    "     - наименьший и наибольший элементы,\n",
    "     - норму Фробениуса,\n",
    "     - собственные числа,\n",
    "     - обратную матрицу"
   ]
  },
  {
   "cell_type": "markdown",
   "metadata": {
    "deletable": true,
    "editable": true
   },
   "source": [
    "После недолгого поиска по документации, довольно легко находятся все нужные функции :)"
   ]
  },
  {
   "cell_type": "code",
   "execution_count": 77,
   "metadata": {
    "collapsed": true,
    "deletable": true,
    "editable": true
   },
   "outputs": [],
   "source": [
    "def get_stats(X):\n",
    "    det = np.linalg.det(X)\n",
    "    trace = np.trace(X)\n",
    "    max_el = np.max(X)\n",
    "    min_el = np.min(X)\n",
    "    frob = np.linalg.norm(X)\n",
    "    eig = np.linalg.eig(X)[0]\n",
    "    inv = np.linalg.inv(X)\n",
    "    return [det, trace, max_el, min_el, frob, eig, inv]"
   ]
  },
  {
   "cell_type": "markdown",
   "metadata": {
    "deletable": true,
    "editable": true
   },
   "source": [
    "Протестируем на матрице с *N*(10,1):"
   ]
  },
  {
   "cell_type": "code",
   "execution_count": 86,
   "metadata": {
    "collapsed": false,
    "deletable": true,
    "editable": true
   },
   "outputs": [
    {
     "name": "stdout",
     "output_type": "stream",
     "text": [
      "[[ 10.28911398   9.43896377]\n",
      " [  9.91671526   8.76086027]] \n",
      "\n",
      "Determinant = -3.46202622946754\n",
      "Trace = 19.049974241965597\n",
      "Max = 10.289113976558834, Min = 8.760860265406762\n",
      "Frobenius norm = 19.236782931728044\n",
      "Eigenvalues:\n",
      " [ 19.23000674  -0.1800325 ]\n",
      "Inverse matrix:\n",
      " [[-2.5305586   2.72642757]\n",
      " [ 2.86442522 -2.97199192]]\n"
     ]
    }
   ],
   "source": [
    "X = np.random.normal(10,1, (2,2))\n",
    "print(X, \"\\n\")\n",
    "\n",
    "stats = get_stats(X)\n",
    "\n",
    "print(\"Determinant = {0}\".format(stats[0]))\n",
    "print(\"Trace = {0}\".format(stats[1]))\n",
    "print(\"Max = {0}, Min = {1}\".format(stats[2], stats[3]))\n",
    "print(\"Frobenius norm = {0}\".format(stats[4]))\n",
    "print(\"Eigenvalues:\\n {0}\".format(stats[5]))\n",
    "print(\"Inverse matrix:\\n {0}\".format(stats[6]))"
   ]
  },
  {
   "cell_type": "markdown",
   "metadata": {
    "deletable": true,
    "editable": true
   },
   "source": [
    "**(11)** Повторите 100 раз следующий эксперимент: сгенерируйте две матрицы размера 10×10 из стандартного нормального распределения, перемножьте их и найдите максимальный элемент."
   ]
  },
  {
   "cell_type": "markdown",
   "metadata": {
    "deletable": true,
    "editable": true
   },
   "source": [
    "Просто проделаем наш эксперимент, сохраняя максимальные элементы, и выведем среднее по ним и 95% квантиль:"
   ]
  },
  {
   "cell_type": "code",
   "execution_count": 88,
   "metadata": {
    "collapsed": false,
    "deletable": true,
    "editable": true
   },
   "outputs": [
    {
     "name": "stdout",
     "output_type": "stream",
     "text": [
      "Mean of max elements: 4.1654153131252\n",
      "95% percentile: 4.904957858187264\n"
     ]
    }
   ],
   "source": [
    "max_elements = []\n",
    "for test in range(100):\n",
    "    X = np.random.rand(10,10)\n",
    "    Y = np.random.rand(10,10)\n",
    "    tmp_max = np.max(X.dot(Y))\n",
    "    max_elements.append(tmp_max)\n",
    "    \n",
    "max_elements = np.array(max_elements)\n",
    "print(\"Mean of max elements: {0}\".format(np.mean(max_elements)))\n",
    "print(\"95% percentile: {0}\".format(np.percentile(max_elements, 95)))"
   ]
  },
  {
   "cell_type": "markdown",
   "metadata": {
    "deletable": true,
    "editable": true
   },
   "source": [
    "## Pandas"
   ]
  },
  {
   "cell_type": "markdown",
   "metadata": {
    "deletable": true,
    "editable": true
   },
   "source": [
    "Для начала подключим *pandas* и загрузим наши данные"
   ]
  },
  {
   "cell_type": "code",
   "execution_count": 106,
   "metadata": {
    "collapsed": false,
    "deletable": true,
    "editable": true
   },
   "outputs": [
    {
     "name": "stdout",
     "output_type": "stream",
     "text": [
      "Populating the interactive namespace from numpy and matplotlib\n"
     ]
    }
   ],
   "source": [
    "import pandas as pd\n",
    "%pylab inline\n",
    "\n",
    "data = pd.read_csv('titanic_data.csv')\n",
    "surv = pd.read_csv('titanic_surv.csv')"
   ]
  },
  {
   "cell_type": "markdown",
   "metadata": {
    "deletable": true,
    "editable": true
   },
   "source": [
    "**(1)** И соединим датафреймы в один"
   ]
  },
  {
   "cell_type": "code",
   "execution_count": 103,
   "metadata": {
    "collapsed": true,
    "deletable": true,
    "editable": true
   },
   "outputs": [],
   "source": [
    "result = data.join(surv)"
   ]
  },
  {
   "cell_type": "markdown",
   "metadata": {
    "deletable": true,
    "editable": true
   },
   "source": [
    "Теперь можно попробовать узнать что-то про них. Для начала можно посмотреть на распределения людей по основным параметрам, таким как: пол, возраст, класс."
   ]
  },
  {
   "cell_type": "markdown",
   "metadata": {
    "deletable": true,
    "editable": true
   },
   "source": [
    "Так как значений в графе \"Пол\" у нас может быть всего 2, то удобней всего это распределение будет отобразить на таком графике:"
   ]
  },
  {
   "cell_type": "code",
   "execution_count": 113,
   "metadata": {
    "collapsed": false,
    "deletable": true,
    "editable": true
   },
   "outputs": [
    {
     "data": {
      "text/plain": [
       "<matplotlib.axes._subplots.AxesSubplot at 0xa5548b2c>"
      ]
     },
     "execution_count": 113,
     "metadata": {},
     "output_type": "execute_result"
    },
    {
     "data": {
      "image/png": "[encoded data removed]",
      "text/plain": [
       "<matplotlib.figure.Figure at 0xa5545a8c>"
      ]
     },
     "metadata": {},
     "output_type": "display_data"
    }
   ],
   "source": [
    "result['Sex'].value_counts().plot(kind = 'bar', alpha = 0.4, title = 'Distribution by Sex')"
   ]
  },
  {
   "cell_type": "markdown",
   "metadata": {
    "deletable": true,
    "editable": true
   },
   "source": [
    "По этому графику видно, что мужчин было существенно больше чем женщин (почти в 2 раза)"
   ]
  },
  {
   "cell_type": "markdown",
   "metadata": {
    "deletable": true,
    "editable": true
   },
   "source": [
    "То же самое стоит проделать и с классом пассажиров:"
   ]
  },
  {
   "cell_type": "code",
   "execution_count": 109,
   "metadata": {
    "collapsed": false,
    "deletable": true,
    "editable": true
   },
   "outputs": [
    {
     "data": {
      "text/plain": [
       "<matplotlib.axes._subplots.AxesSubplot at 0xa566b52c>"
      ]
     },
     "execution_count": 109,
     "metadata": {},
     "output_type": "execute_result"
    },
    {
     "data": {
      "image/png": "[encoded data removed]",
      "text/plain": [
       "<matplotlib.figure.Figure at 0xa566e04c>"
      ]
     },
     "metadata": {},
     "output_type": "display_data"
    }
   ],
   "source": [
    "result['Pclass'].value_counts().plot(kind = 'bar', alpha = 0.4, title = 'Distribution by Passenger Class')"
   ]
  },
  {
   "cell_type": "markdown",
   "metadata": {
    "deletable": true,
    "editable": true
   },
   "source": [
    "Теперь мы еще знаем, что больше людей были 3-го класса, а вот людей 1-го и 2-го было всего примерно по четверти."
   ]
  },
  {
   "cell_type": "markdown",
   "metadata": {
    "deletable": true,
    "editable": true
   },
   "source": [
    "Посмотрим на возраст пассажиров:"
   ]
  },
  {
   "cell_type": "code",
   "execution_count": 114,
   "metadata": {
    "collapsed": false,
    "deletable": true,
    "editable": true
   },
   "outputs": [
    {
     "name": "stdout",
     "output_type": "stream",
     "text": [
      "Minimum age = 0.42\n",
      "Maximum age = 80.0\n"
     ]
    }
   ],
   "source": [
    "print(\"Minimum age = {0}\".format(result['Age'].min()))\n",
    "print(\"Maximum age = {0}\".format(result['Age'].max()))"
   ]
  },
  {
   "cell_type": "markdown",
   "metadata": {
    "deletable": true,
    "editable": true
   },
   "source": [
    "Можно сказать, что кого только не было на этом корабле - так что новых знаний это нам особо не принесло. (Разве что можно заподозрить, что 0.42 - это какой-то информационный вброс, но сочтём что там был полугодовалый ребёнок)"
   ]
  },
  {
   "cell_type": "code",
   "execution_count": 115,
   "metadata": {
    "collapsed": false,
    "deletable": true,
    "editable": true
   },
   "outputs": [
    {
     "name": "stdout",
     "output_type": "stream",
     "text": [
      "Mean age = 29.69911764705882\n"
     ]
    }
   ],
   "source": [
    "print(\"Mean age = {0}\".format(result['Age'].mean()))"
   ]
  },
  {
   "cell_type": "markdown",
   "metadata": {
    "deletable": true,
    "editable": true
   },
   "source": [
    "А вот средний возраст даёт нам понять, что молодых людей было всё-же больше, чем пожилых, что довольно неплохо."
   ]
  },
  {
   "cell_type": "markdown",
   "metadata": {
    "deletable": true,
    "editable": true
   },
   "source": [
    "**(3)** Так же можно подробнее изучить распределение возраста пассажиров, посмотрев на средние в разных классах:"
   ]
  },
  {
   "cell_type": "code",
   "execution_count": 130,
   "metadata": {
    "collapsed": false,
    "deletable": true,
    "editable": true
   },
   "outputs": [
    {
     "data": {
      "text/plain": [
       "Pclass\n",
       "1    38.233441\n",
       "2    29.877630\n",
       "3    25.140620\n",
       "Name: Age, dtype: float64"
      ]
     },
     "execution_count": 130,
     "metadata": {},
     "output_type": "execute_result"
    }
   ],
   "source": [
    "result.groupby('Pclass')['Age'].mean()"
   ]
  },
  {
   "cell_type": "markdown",
   "metadata": {
    "deletable": true,
    "editable": true
   },
   "source": [
    "По полученным числам довольно сильно прослеживается соответствие между средним возрастом и престижностью класса пассажиров. Средний возраст 1-го класса больше аж на 10 лет, чем 2-го, и почти на 15 - 3-го. (Что, вообще говоря, кажется мне и так довольно логичным фактом :) )"
   ]
  },
  {
   "cell_type": "markdown",
   "metadata": {
    "deletable": true,
    "editable": true
   },
   "source": [
    "Ну и посчитаем процент выживших на корабле (а он оказался куда больше, чем я на самом деле ожидал)"
   ]
  },
  {
   "cell_type": "code",
   "execution_count": 118,
   "metadata": {
    "collapsed": false,
    "deletable": true,
    "editable": true
   },
   "outputs": [
    {
     "name": "stdout",
     "output_type": "stream",
     "text": [
      "Survived percent = 0.3838383838383838\n"
     ]
    }
   ],
   "source": [
    "print(\"Survived percent = {0}\".format(result['Survived'].mean()))"
   ]
  },
  {
   "cell_type": "markdown",
   "metadata": {
    "deletable": true,
    "editable": true
   },
   "source": [
    "В итоге, мы немало узнали об основных параметрах нашего датафрейма (и вероятно можем сделать предположение, что довольно немало людей на корабле были молодыми парнями из \n",
    "3-го класса)"
   ]
  },
  {
   "cell_type": "markdown",
   "metadata": {
    "deletable": true,
    "editable": true
   },
   "source": [
    "**(2)** Попробуем теперь найти какие-нибудь признаки выживаемости."
   ]
  },
  {
   "cell_type": "markdown",
   "metadata": {
    "deletable": true,
    "editable": true
   },
   "source": [
    "Хочется предположить, что мужчины более вероятно должны были выживать, но на самом деле оказалось примерно так:"
   ]
  },
  {
   "cell_type": "code",
   "execution_count": 125,
   "metadata": {
    "collapsed": false,
    "deletable": true,
    "editable": true
   },
   "outputs": [
    {
     "name": "stdout",
     "output_type": "stream",
     "text": [
      "Percent of Men survived: 0.18890814558058924\n",
      "Percent of Women survived: 0.7420382165605095\n"
     ]
    }
   ],
   "source": [
    "sex_dist = result['Sex'].value_counts()\n",
    "survived_sex_dist = result[result.Survived == 1]['Sex'].value_counts()\n",
    "\n",
    "print(\"Percent of Men survived: {0}\".format(survived_sex_dist['male']/sex_dist['male']))\n",
    "print(\"Percent of Women survived: {0}\".format(survived_sex_dist['female']/sex_dist['female']))"
   ]
  },
  {
   "cell_type": "markdown",
   "metadata": {
    "deletable": true,
    "editable": true
   },
   "source": [
    "(Вероятно стоило вспомнить, что в лодки первыми сажают женщин, стариков и детей, что, вероятно, и дало такой результат)"
   ]
  },
  {
   "cell_type": "markdown",
   "metadata": {
    "deletable": true,
    "editable": true
   },
   "source": [
    "Сравним теперь средние возраста выживших и погибших (опять же хочется верить, что молодые более вероятно выживают)"
   ]
  },
  {
   "cell_type": "code",
   "execution_count": 127,
   "metadata": {
    "collapsed": false,
    "deletable": true,
    "editable": true
   },
   "outputs": [
    {
     "name": "stdout",
     "output_type": "stream",
     "text": [
      "Mean age of survived: 28.343689655172415\n",
      "Mean age of lost: 30.62617924528302\n"
     ]
    }
   ],
   "source": [
    "print(\"Mean age of survived: {0}\".format(result[result.Survived == 1]['Age'].mean()))\n",
    "print(\"Mean age of lost: {0}\".format(result[result.Survived == 0]['Age'].mean()))"
   ]
  },
  {
   "cell_type": "markdown",
   "metadata": {
    "deletable": true,
    "editable": true
   },
   "source": [
    "Я бы сказал, что моё предположение, хоть и оказалось вроде верным, но, думаю, разница в 2 года у средних возрастов скорее несущественна, так что в итоге выживаемость, скорее всего, не сильно зависела от возраста."
   ]
  },
  {
   "cell_type": "markdown",
   "metadata": {
    "deletable": true,
    "editable": true
   },
   "source": [
    "Хочется так же проверить, нет ли зависимости между ценой билета и выживаемостью, так что проверим и средние цены"
   ]
  },
  {
   "cell_type": "code",
   "execution_count": 129,
   "metadata": {
    "collapsed": false,
    "deletable": true,
    "editable": true
   },
   "outputs": [
    {
     "name": "stdout",
     "output_type": "stream",
     "text": [
      "Mean price of survived: 48.39540760233918\n",
      "Mean price of lost: 22.117886885245902\n"
     ]
    }
   ],
   "source": [
    "print(\"Mean price of survived: {0}\".format(result[result.Survived == 1]['Fare'].mean()))\n",
    "print(\"Mean price of lost: {0}\".format(result[result.Survived == 0]['Fare'].mean()))"
   ]
  },
  {
   "cell_type": "markdown",
   "metadata": {
    "deletable": true,
    "editable": true
   },
   "source": [
    "А вот в этот раз можно заметить существунную разницу между средними, значит в итоге можно предположить, что выжило куда больше богатых/знатных людей, чем тех, кто платил меньшую сумму за проезд."
   ]
  },
  {
   "cell_type": "markdown",
   "metadata": {
    "deletable": true,
    "editable": true
   },
   "source": [
    "**(4)** Перед более тщательным анализом данных стоит так же предобработать наши данные и избавиться как минимум от пропусков"
   ]
  },
  {
   "cell_type": "markdown",
   "metadata": {
    "deletable": true,
    "editable": true
   },
   "source": [
    "Для начала найдём столбцы по которым вообще имеются пропуски:"
   ]
  },
  {
   "cell_type": "code",
   "execution_count": 133,
   "metadata": {
    "collapsed": false,
    "deletable": true,
    "editable": true
   },
   "outputs": [
    {
     "name": "stdout",
     "output_type": "stream",
     "text": [
      "List of columns with NaN: ['Age', 'Cabin', 'Embarked']\n"
     ]
    }
   ],
   "source": [
    "list_nulls = result.isnull().any(axis = 0)\n",
    "print(\"List of columns with NaN: {0}\".format(result.columns[list_nulls].tolist()))"
   ]
  },
  {
   "cell_type": "markdown",
   "metadata": {
    "deletable": true,
    "editable": true
   },
   "source": [
    "Можно было бы просто убрать строки, в которых есть пропуски (можно и столбцы выкинуть)"
   ]
  },
  {
   "cell_type": "code",
   "execution_count": 137,
   "metadata": {
    "collapsed": false,
    "deletable": true,
    "editable": true
   },
   "outputs": [
    {
     "name": "stdout",
     "output_type": "stream",
     "text": [
      "Number of left rows: 183\n"
     ]
    }
   ],
   "source": [
    "dropped_results = result.dropna()\n",
    "dropped_params = result.dropna(axis = 1)\n",
    "\n",
    "print(\"Number of left rows: {0}\".format(dropped_results.shape[0]))"
   ]
  },
  {
   "cell_type": "markdown",
   "metadata": {
    "deletable": true,
    "editable": true
   },
   "source": [
    "Но второй вариант кажется совсем странным, а первый даже в нашем случае урезает количество пассажиров примерно в 4 раза. Так что, вероятно, это применимо только в случаях с крайне малым количеством пропусков."
   ]
  },
  {
   "cell_type": "markdown",
   "metadata": {
    "deletable": true,
    "editable": true
   },
   "source": [
    "Так что кажется более логичным попробовать заменить все пропуски по столбцам на что-то того же типа. А чтобы не создавать какие-то совсем выбросные значения (в духе 0 в графе возраста), я бы заменил на средние значения по столбцам. Правда это работает только на числах, а вот со строковым или булевским типом пришлось бы разбираться отдельно, в нашем случае, например, заменив *NaN* в строковых типах на пустую строку. (в надежде что последующим применяемым алгоритмам не сильно будут важны эти строковые значения) "
   ]
  },
  {
   "cell_type": "markdown",
   "metadata": {
    "deletable": true,
    "editable": true
   },
   "source": [
    "Сделать это мы можем примерно так:"
   ]
  },
  {
   "cell_type": "code",
   "execution_count": 139,
   "metadata": {
    "collapsed": false,
    "deletable": true,
    "editable": true
   },
   "outputs": [],
   "source": [
    "filled_result = result.fillna({'Age': result['Age'].mean(), 'Cabin': '', 'Embarked': ''})\n",
    "#filled_result"
   ]
  },
  {
   "cell_type": "markdown",
   "metadata": {
    "deletable": true,
    "editable": true
   },
   "source": [
    "У этого метода есть вполне понятные минусы, так как он на самом деле несколько искажает реальную картину событий (ведь крайне маловероятно что у всех этих людей был один возраст, так еще и средний по всем), но его вполне можно было бы постепенно улучшать. Например заменяя *NaN* на случайное число с нормальным распределением в диапазоне $[min age, max age]$, или на среднеий возраст для своего класса пассажиров, т.к. мы знаем что он довольно разный (да и вообще можно использовать остальную информацию о пассажире, чтобы более вероятно определить его реальный возраст)"
   ]
  },
  {
   "cell_type": "markdown",
   "metadata": {
    "deletable": true,
    "editable": true
   },
   "source": [
    "## Matplotlib"
   ]
  },
  {
   "cell_type": "markdown",
   "metadata": {
    "deletable": true,
    "editable": true
   },
   "source": [
    "Подключим *matplotlib*."
   ]
  },
  {
   "cell_type": "code",
   "execution_count": 141,
   "metadata": {
    "collapsed": true,
    "deletable": true,
    "editable": true
   },
   "outputs": [],
   "source": [
    "import matplotlib.pyplot as plt"
   ]
  },
  {
   "cell_type": "markdown",
   "metadata": {
    "deletable": true,
    "editable": true
   },
   "source": [
    "**(1)** Отобразим функцию $y(x)$, а затем её доверительный интервал с помощью *fill_between*:"
   ]
  },
  {
   "cell_type": "code",
   "execution_count": 142,
   "metadata": {
    "collapsed": false,
    "deletable": true,
    "editable": true
   },
   "outputs": [
    {
     "data": {
      "image/png": "[encoded data removed]",
      "text/plain": [
       "<matplotlib.figure.Figure at 0xa546ae8c>"
      ]
     },
     "metadata": {},
     "output_type": "display_data"
    }
   ],
   "source": [
    "def gen_uncertain_data():\n",
    "    x = np.linspace(0, 30, 100)\n",
    "    y = np.sin(x/6*np.pi) + np.random.normal(0, 0.02, size=x.shape)\n",
    "    error = np.random.normal(0.1, 0.02, size=y.shape)\n",
    "    return x, y, error\n",
    "\n",
    "x, y, error = gen_uncertain_data()\n",
    "\n",
    "plt.plot(x, y)\n",
    "plt.fill_between(x, y - error, y + error, color = 'green', alpha = 0.5)\n",
    "plt.ylabel('y', fontsize = 14)\n",
    "plt.xlabel('x', fontsize = 14)\n",
    "plt.title('Confidence interval of y(x)')\n",
    "\n",
    "plt.show()"
   ]
  },
  {
   "cell_type": "markdown",
   "metadata": {
    "deletable": true,
    "editable": true
   },
   "source": [
    "**(2)** Вспомним что мы уже рассматривали распределение возраста в разных классах. Теперь возьмём те же самые распределения, но с заранее устранёнными пропусками (из-за которых в моём случае на графиках сильно видны выбросы в среднем возрасте :( ) и отобразим каждое на отдельном подграфике. Расположить это мне показалось нагляднее в один ряд с объединённой осью *y*. Ну и останется не забыть подписать оси и заголовок графика."
   ]
  },
  {
   "cell_type": "code",
   "execution_count": 144,
   "metadata": {
    "collapsed": false,
    "deletable": true,
    "editable": true
   },
   "outputs": [
    {
     "data": {
      "image/png": "[encoded data removed]",
      "text/plain": [
       "<matplotlib.figure.Figure at 0xa546edec>"
      ]
     },
     "metadata": {},
     "output_type": "display_data"
    }
   ],
   "source": [
    "grouped_age = filled_result.groupby('Pclass')['Age']\n",
    "\n",
    "figure, (ax1, ax2, ax3) = plt.subplots(1, 3, sharey = True, figsize = (15, 3))\n",
    "\n",
    "ax1.hist(grouped_age.get_group(1), bins = 15, normed = 1)\n",
    "ax1.set_title(\"1st class\")\n",
    "\n",
    "ax2.hist(grouped_age.get_group(2), bins = 15, normed = 1)\n",
    "ax2.set_title(\"2nd class\")\n",
    "\n",
    "ax3.hist(grouped_age.get_group(3), bins = 15, normed = 1)\n",
    "ax3.set_title(\"3rd class\")\n",
    "\n",
    "figure.text(0.5, 1.12, 'Age distribution', ha='center', va='center', fontsize = 20)\n",
    "figure.text(0.5, 0.01, 'Age', ha='center', va='center', fontsize = 14)\n",
    "figure.text(0.08, 0.5, 'Passangers', ha='center', va='center', rotation = 'vertical', fontsize = 14)\n",
    "figure.subplots_adjust(wspace=0.2)\n",
    "\n",
    "plt.show()"
   ]
  }
 ],
 "metadata": {
  "kernelspec": {
   "display_name": "Python 3",
   "language": "python",
   "name": "python3"
  },
  "language_info": {
   "codemirror_mode": {
    "name": "ipython",
    "version": 3
   },
   "file_extension": ".py",
   "mimetype": "text/x-python",
   "name": "python",
   "nbconvert_exporter": "python",
   "pygments_lexer": "ipython3",
   "version": "3.6.0"
  }
 },
 "nbformat": 4,
 "nbformat_minor": 0
}
